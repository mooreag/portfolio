{
 "cells": [
  {
   "cell_type": "markdown",
   "metadata": {},
   "source": [
    "This script takes active studies, separates export into tabs for each executing party, then pivots those tabs to give output. A sum of the total number of patients enrolled across all studies for each site is also added. **NOTE:** If you change any column titles in the query, you will have to update them here too.\n",
    "\n",
    "1. Run **STEP 1** section\n",
    "2. Depending on which executing parties you filtered for in your query or if you want to even split them into separate tabs, you will either use the **Unfiltered** section (which will not split the studies out) or the **Filter: executing_party** section(s) (which will split the studies out into a tab for each executing party)\n",
    "3. Once you run the proper sections, read those tab/s into an excel doc"
   ]
  },
  {
   "cell_type": "markdown",
   "metadata": {},
   "source": [
    "# 1. STEP 1"
   ]
  },
  {
   "cell_type": "code",
   "execution_count": null,
   "metadata": {},
   "outputs": [],
   "source": [
    "import pandas as pd"
   ]
  },
  {
   "cell_type": "code",
   "execution_count": null,
   "metadata": {
    "scrolled": true
   },
   "outputs": [],
   "source": [
    "df = pd.read_excel('active_studies_export.xlsx')"
   ]
  },
  {
   "cell_type": "markdown",
   "metadata": {},
   "source": [
    "# Unfiltered\n",
    "This will pivot the entire query export without splitting it out into executing_party tabs. If you don't need the different BUs to be filtered, then run this one."
   ]
  },
  {
   "cell_type": "code",
   "execution_count": null,
   "metadata": {
    "scrolled": false
   },
   "outputs": [],
   "source": [
    "# group total enrolled\n",
    "ser1 = df.groupby(['study_number','executing_party','phase','molecule','fpa_year','study_fpi_year','firewall','site']).total_enrolled.sum().to_frame()\n",
    "ser1"
   ]
  },
  {
   "cell_type": "code",
   "execution_count": null,
   "metadata": {},
   "outputs": [],
   "source": [
    "# group sad date\n",
    "ser2 = df.groupby(['study_number','executing_party','phase','molecule','fpa_year','study_fpi_year','firewall','site']).sad.min().to_frame()\n"
   ]
  },
  {
   "cell_type": "code",
   "execution_count": null,
   "metadata": {},
   "outputs": [],
   "source": [
    "# group site status\n",
    "ser3 = df.groupby(['study_number','executing_party','phase','molecule','fpa_year','study_fpi_year','firewall','site']).site_status.min().to_frame()"
   ]
  },
  {
   "cell_type": "code",
   "execution_count": null,
   "metadata": {
    "scrolled": true
   },
   "outputs": [],
   "source": [
    "# remerge the 3 groups\n",
    "merge1 = pd.merge(ser1, ser2,  how='outer', left_on=['study_number','executing_party','phase','molecule','fpa_year','study_fpi_year','firewall','site'], right_on = ['study_number','executing_party','phase','molecule','fpa_year','study_fpi_year','firewall','site'])\n"
   ]
  },
  {
   "cell_type": "code",
   "execution_count": null,
   "metadata": {
    "scrolled": false
   },
   "outputs": [],
   "source": [
    "merge2 = pd.merge(merge1, ser3,  how='outer', left_on=['study_number','executing_party','phase','molecule','fpa_year','study_fpi_year','firewall','site'], right_on = ['study_number','executing_party','phase','molecule','fpa_year','study_fpi_year','firewall','site'])\n",
    "merge2"
   ]
  },
  {
   "cell_type": "code",
   "execution_count": null,
   "metadata": {
    "scrolled": false
   },
   "outputs": [],
   "source": [
    "# reset index\n",
    "modified = merge2.reset_index()"
   ]
  },
  {
   "cell_type": "code",
   "execution_count": null,
   "metadata": {
    "scrolled": true
   },
   "outputs": [],
   "source": [
    "# convert sad datetime to string to remove the time from the final output\n",
    "modified['sad'] = modified['sad'].astype(str)\n",
    "# modified"
   ]
  },
  {
   "cell_type": "code",
   "execution_count": null,
   "metadata": {},
   "outputs": [],
   "source": [
    "# pivot transformation (https://stackoverflow.com/questions/55416191/pandas-change-order-of-columns-in-pivot-table)\n",
    "pivot = (modified.pivot_table(index=['site'],\n",
    "                             columns=['study_number','executing_party','phase','molecule','fpa_year','study_fpi_year','firewall'],\n",
    "                             values=['site_status', 'sad','total_enrolled'],\n",
    "                             aggfunc=lambda x: ' '.join(str(v) for v in x)).sort_index(axis=1, level=1))"
   ]
  },
  {
   "cell_type": "code",
   "execution_count": null,
   "metadata": {
    "scrolled": false
   },
   "outputs": [],
   "source": [
    "# convert total_enrolled to float (https://stackoverflow.com/questions/48094854/python-convert-object-to-float)\n",
    "pivot['total_enrolled'] = pivot['total_enrolled'].astype(float)\n",
    "# pivot['total_enrolled']\n",
    "pivot"
   ]
  },
  {
   "cell_type": "code",
   "execution_count": null,
   "metadata": {
    "scrolled": true
   },
   "outputs": [],
   "source": [
    "# reorder column titles (https://github.com/pandas-dev/pandas/issues/4720)\n",
    "pivot.columns = pivot.columns.swaplevel(7, 0).swaplevel(6, 0).swaplevel(5, 0).swaplevel(4, 0).swaplevel(3, 0).swaplevel(2, 0).swaplevel(1, 0)\n",
    "pivot.sort_index(1)"
   ]
  },
  {
   "cell_type": "code",
   "execution_count": null,
   "metadata": {},
   "outputs": [],
   "source": [
    "# sum enrollment across columns\n",
    "pivot['total_patients_recruited'] = pivot.sum(axis=1)\n",
    "# pivot"
   ]
  },
  {
   "cell_type": "code",
   "execution_count": null,
   "metadata": {},
   "outputs": [],
   "source": [
    "# print to excel\n",
    "pivot.to_excel('pivot_export.xlsx')"
   ]
  },
  {
   "cell_type": "markdown",
   "metadata": {},
   "source": [
    "# Filter: executingparty1\n",
    "Creates a tab just for executingparty1 studies"
   ]
  },
  {
   "cell_type": "code",
   "execution_count": null,
   "metadata": {
    "scrolled": true
   },
   "outputs": [],
   "source": [
    "# filter for executingparty1\n",
    "executingparty1 = df.loc[df['executing_party'] == 'executingparty1']\n",
    "executingparty1 = executingparty1.reset_index(drop=True)"
   ]
  },
  {
   "cell_type": "code",
   "execution_count": null,
   "metadata": {},
   "outputs": [],
   "source": [
    "# group total enrolled\n",
    "ser1_executingparty1 = executingparty1.groupby(['study_number','executing_party','phase','molecule','fpa_year','study_fpi_year','firewall','site']).total_enrolled.sum().to_frame()"
   ]
  },
  {
   "cell_type": "code",
   "execution_count": null,
   "metadata": {},
   "outputs": [],
   "source": [
    "# group sad date\n",
    "ser2_executingparty1 = executingparty1.groupby(['study_number','executing_party','phase','molecule','fpa_year','study_fpi_year','firewall','site']).sad.min().to_frame()"
   ]
  },
  {
   "cell_type": "code",
   "execution_count": null,
   "metadata": {},
   "outputs": [],
   "source": [
    "# group site status\n",
    "ser3_executingparty1 = executingparty1.groupby(['study_number','executing_party','phase','molecule','fpa_year','study_fpi_year','firewall','site']).site_status.min().to_frame()"
   ]
  },
  {
   "cell_type": "code",
   "execution_count": null,
   "metadata": {},
   "outputs": [],
   "source": [
    "# remerge the 3 groups\n",
    "merge1_executingparty1 = pd.merge(ser1_executingparty1, ser2_executingparty1,  how='outer', left_on=['study_number','executing_party','phase','molecule','fpa_year','study_fpi_year','firewall','site'], right_on = ['study_number','executing_party','phase','molecule','fpa_year','study_fpi_year','firewall','site'])"
   ]
  },
  {
   "cell_type": "code",
   "execution_count": null,
   "metadata": {},
   "outputs": [],
   "source": [
    "merge2_executingparty1 = pd.merge(merge1_executingparty1, ser3_executingparty1,  how='outer', left_on=['study_number','executing_party','phase','molecule','fpa_year','study_fpi_year','firewall','site'], right_on = ['study_number','executing_party','phase','molecule','fpa_year','study_fpi_year','firewall','site'])"
   ]
  },
  {
   "cell_type": "code",
   "execution_count": null,
   "metadata": {},
   "outputs": [],
   "source": [
    "# reset index\n",
    "modified_executingparty1 = merge2_executingparty1.reset_index()"
   ]
  },
  {
   "cell_type": "code",
   "execution_count": null,
   "metadata": {},
   "outputs": [],
   "source": [
    "# convert sad datetime to string to remove the time from the final output\n",
    "modified_executingparty1['sad'] = modified_executingparty1['sad'].astype(str)\n",
    "# modified_executingparty1"
   ]
  },
  {
   "cell_type": "code",
   "execution_count": null,
   "metadata": {
    "scrolled": true
   },
   "outputs": [],
   "source": [
    "# pivot transformation (https://stackoverflow.com/questions/55416191/pandas-change-order-of-columns-in-pivot-table)\n",
    "pivot_executingparty1 = (modified_executingparty1.pivot_table(index=['site'],\n",
    "                             columns=['study_number','executing_party','phase','molecule','fpa_year','study_fpi_year','firewall'],\n",
    "                             values=['site_status', 'sad','total_enrolled'],\n",
    "                             aggfunc=lambda x: ' '.join(str(v) for v in x)).sort_index(axis=1, level=1))"
   ]
  },
  {
   "cell_type": "code",
   "execution_count": null,
   "metadata": {
    "scrolled": true
   },
   "outputs": [],
   "source": [
    "# convert total_enrolled to float (https://stackoverflow.com/questions/48094854/python-convert-object-to-float)\n",
    "pivot_executingparty1['total_enrolled'] = pivot_executingparty1['total_enrolled'].astype(float)\n",
    "# pivot['total_enrolled']\n",
    "# pivot_executingparty1"
   ]
  },
  {
   "cell_type": "code",
   "execution_count": null,
   "metadata": {
    "scrolled": true
   },
   "outputs": [],
   "source": [
    "# reorder column titles (https://github.com/pandas-dev/pandas/issues/4720)\n",
    "pivot_executingparty1.columns = pivot_executingparty1.columns.swaplevel(7, 0).swaplevel(6, 0).swaplevel(5, 0).swaplevel(4, 0).swaplevel(3, 0).swaplevel(2, 0).swaplevel(1, 0)\n",
    "pivot_executingparty1.sort_index(1)"
   ]
  },
  {
   "cell_type": "code",
   "execution_count": null,
   "metadata": {
    "scrolled": true
   },
   "outputs": [],
   "source": [
    "# sum enrollment across columns\n",
    "pivot_executingparty1['total_patients_recruited'] = pivot_executingparty1.sum(axis=1)\n",
    "# pivot_executingparty1"
   ]
  },
  {
   "cell_type": "code",
   "execution_count": null,
   "metadata": {},
   "outputs": [],
   "source": [
    "# pivot_executingparty1.to_excel('pivot_export_executingparty1.xlsx')"
   ]
  },
  {
   "cell_type": "markdown",
   "metadata": {},
   "source": [
    "# Filter: executingparty2\n",
    "Creates a tab just for executingparty2 studies"
   ]
  },
  {
   "cell_type": "code",
   "execution_count": null,
   "metadata": {
    "scrolled": true
   },
   "outputs": [],
   "source": [
    "# filter for executingparty2\n",
    "executingparty2 = df.loc[df['executing_party'] == 'executingparty2']\n",
    "executingparty2 = executingparty2.reset_index(drop=True)"
   ]
  },
  {
   "cell_type": "code",
   "execution_count": null,
   "metadata": {},
   "outputs": [],
   "source": [
    "# group total enrolled\n",
    "ser1_executingparty2 = executingparty2.groupby(['study_number','executing_party','phase','molecule','fpa_year','study_fpi_year','firewall','site']).total_enrolled.sum().to_frame()"
   ]
  },
  {
   "cell_type": "code",
   "execution_count": null,
   "metadata": {},
   "outputs": [],
   "source": [
    "# group sad date\n",
    "ser2_executingparty2 = executingparty2.groupby(['study_number','executing_party','phase','molecule','fpa_year','study_fpi_year','firewall','site']).sad.min().to_frame()"
   ]
  },
  {
   "cell_type": "code",
   "execution_count": null,
   "metadata": {},
   "outputs": [],
   "source": [
    "# group site status\n",
    "ser3_executingparty2 = executingparty2.groupby(['study_number','executing_party','phase','molecule','fpa_year','study_fpi_year','firewall','site']).site_status.min().to_frame()"
   ]
  },
  {
   "cell_type": "code",
   "execution_count": null,
   "metadata": {},
   "outputs": [],
   "source": [
    "# remerge the 3 groups\n",
    "merge1_executingparty2 = pd.merge(ser1_executingparty2, ser2_executingparty2,  how='outer', left_on=['study_number','executing_party','phase','molecule','fpa_year','study_fpi_year','firewall','site'], right_on = ['study_number','executing_party','phase','molecule','fpa_year','study_fpi_year','firewall','site'])"
   ]
  },
  {
   "cell_type": "code",
   "execution_count": null,
   "metadata": {},
   "outputs": [],
   "source": [
    "merge2_executingparty2 = pd.merge(merge1_executingparty2, ser3_executingparty2,  how='outer', left_on=['study_number','executing_party','phase','molecule','fpa_year','study_fpi_year','firewall','site'], right_on = ['study_number','executing_party','phase','molecule','fpa_year','study_fpi_year','firewall','site'])"
   ]
  },
  {
   "cell_type": "code",
   "execution_count": null,
   "metadata": {},
   "outputs": [],
   "source": [
    "# reset index\n",
    "modified_executingparty2 = merge2_executingparty2.reset_index()"
   ]
  },
  {
   "cell_type": "code",
   "execution_count": null,
   "metadata": {},
   "outputs": [],
   "source": [
    "# convert sad datetime to string to remove the time from the final output\n",
    "modified_executingparty2['sad'] = modified_executingparty2['sad'].astype(str)\n",
    "# modified_executingparty2"
   ]
  },
  {
   "cell_type": "code",
   "execution_count": null,
   "metadata": {},
   "outputs": [],
   "source": [
    "# pivot transformation (https://stackoverflow.com/questions/55416191/pandas-change-order-of-columns-in-pivot-table)\n",
    "pivot_executingparty2 = (modified_executingparty2.pivot_table(index=['site'],\n",
    "                             columns=['study_number','executing_party','phase','molecule','fpa_year','study_fpi_year','firewall'],\n",
    "                             values=['site_status', 'sad','total_enrolled'],\n",
    "                             aggfunc=lambda x: ' '.join(str(v) for v in x)).sort_index(axis=1, level=1))"
   ]
  },
  {
   "cell_type": "code",
   "execution_count": null,
   "metadata": {},
   "outputs": [],
   "source": [
    "# convert total_enrolled to float (https://stackoverflow.com/questions/48094854/python-convert-object-to-float)\n",
    "pivot_executingparty2['total_enrolled'] = pivot_executingparty2['total_enrolled'].astype(float)\n",
    "# pivot['total_enrolled']\n",
    "# pivot_executingparty2"
   ]
  },
  {
   "cell_type": "code",
   "execution_count": null,
   "metadata": {
    "scrolled": true
   },
   "outputs": [],
   "source": [
    "# reorder column titles (https://github.com/pandas-dev/pandas/issues/4720)\n",
    "pivot_executingparty2.columns = pivot_executingparty2.columns.swaplevel(7, 0).swaplevel(6, 0).swaplevel(5, 0).swaplevel(4, 0).swaplevel(3, 0).swaplevel(2, 0).swaplevel(1, 0)\n",
    "pivot_executingparty2.sort_index(1)"
   ]
  },
  {
   "cell_type": "code",
   "execution_count": null,
   "metadata": {},
   "outputs": [],
   "source": [
    "# sum enrollment across columns\n",
    "pivot_executingparty2['total_patients_recruited'] = pivot_executingparty2.sum(axis=1)\n",
    "# pivot_executingparty2"
   ]
  },
  {
   "cell_type": "markdown",
   "metadata": {},
   "source": [
    "# Filter: executingparty2\n",
    "Creates a tab just for executingparty2 studies"
   ]
  },
  {
   "cell_type": "code",
   "execution_count": null,
   "metadata": {
    "scrolled": true
   },
   "outputs": [],
   "source": [
    "# filter for executingparty2\n",
    "executingparty2 = df.loc[df['executing_party'] == 'executingparty2']\n",
    "executingparty2 = executingparty2.reset_index(drop=True)"
   ]
  },
  {
   "cell_type": "code",
   "execution_count": null,
   "metadata": {
    "scrolled": true
   },
   "outputs": [],
   "source": [
    "# group total enrolled\n",
    "ser1_executingparty2 = executingparty2.groupby(['study_number','executing_party','phase','molecule','fpa_year','study_fpi_year','firewall','site']).total_enrolled.sum().to_frame()"
   ]
  },
  {
   "cell_type": "code",
   "execution_count": null,
   "metadata": {
    "scrolled": true
   },
   "outputs": [],
   "source": [
    "# group sad date\n",
    "ser2_executingparty2 = executingparty2.groupby(['study_number','executing_party','phase','molecule','fpa_year','study_fpi_year','firewall','site']).sad.min().to_frame()"
   ]
  },
  {
   "cell_type": "code",
   "execution_count": null,
   "metadata": {},
   "outputs": [],
   "source": [
    "# group site status\n",
    "ser3_executingparty2 = executingparty2.groupby(['study_number','executing_party','phase','molecule','fpa_year','study_fpi_year','firewall','site']).site_status.min().to_frame()"
   ]
  },
  {
   "cell_type": "code",
   "execution_count": null,
   "metadata": {},
   "outputs": [],
   "source": [
    "# remerge the 3 groups\n",
    "merge1_executingparty2 = pd.merge(ser1_executingparty2, ser2_executingparty2,  how='outer', left_on=['study_number','executing_party','phase','molecule','fpa_year','study_fpi_year','firewall','site'], right_on = ['study_number','executing_party','phase','molecule','fpa_year','study_fpi_year','firewall','site'])"
   ]
  },
  {
   "cell_type": "code",
   "execution_count": null,
   "metadata": {},
   "outputs": [],
   "source": [
    "merge2_executingparty2 = pd.merge(merge1_executingparty2, ser3_executingparty2,  how='outer', left_on=['study_number','executing_party','phase','molecule','fpa_year','study_fpi_year','firewall','site'], right_on = ['study_number','executing_party','phase','molecule','fpa_year','study_fpi_year','firewall','site'])"
   ]
  },
  {
   "cell_type": "code",
   "execution_count": null,
   "metadata": {},
   "outputs": [],
   "source": [
    "# reset index\n",
    "modified_executingparty2 = merge2_executingparty2.reset_index()"
   ]
  },
  {
   "cell_type": "code",
   "execution_count": null,
   "metadata": {},
   "outputs": [],
   "source": [
    "# convert sad datetime to string to remove the time from the final output\n",
    "modified_executingparty2['sad'] = modified_executingparty2['sad'].astype(str)\n",
    "# modified_executingparty2"
   ]
  },
  {
   "cell_type": "code",
   "execution_count": null,
   "metadata": {},
   "outputs": [],
   "source": [
    "# pivot transformation (https://stackoverflow.com/questions/55416191/pandas-change-order-of-columns-in-pivot-table)\n",
    "pivot_executingparty2 = (modified_executingparty2.pivot_table(index=['site'],\n",
    "                             columns=['study_number','executing_party','phase','molecule','fpa_year','study_fpi_year','firewall'],\n",
    "                             values=['site_status', 'sad','total_enrolled'],\n",
    "                             aggfunc=lambda x: ' '.join(str(v) for v in x)).sort_index(axis=1, level=1))"
   ]
  },
  {
   "cell_type": "code",
   "execution_count": null,
   "metadata": {},
   "outputs": [],
   "source": [
    "# convert total_enrolled to float (https://stackoverflow.com/questions/48094854/python-convert-object-to-float)\n",
    "pivot_executingparty2['total_enrolled'] = pivot_executingparty2['total_enrolled'].astype(float)\n",
    "# pivot['total_enrolled']\n",
    "# pivot_executingparty2"
   ]
  },
  {
   "cell_type": "code",
   "execution_count": null,
   "metadata": {
    "scrolled": false
   },
   "outputs": [],
   "source": [
    "# reorder column titles (https://github.com/pandas-dev/pandas/issues/4720)\n",
    "pivot_executingparty2.columns = pivot_executingparty2.columns.swaplevel(7, 0).swaplevel(6, 0).swaplevel(5, 0).swaplevel(4, 0).swaplevel(3, 0).swaplevel(2, 0).swaplevel(1, 0)\n",
    "pivot_executingparty2.sort_index(1)"
   ]
  },
  {
   "cell_type": "code",
   "execution_count": null,
   "metadata": {},
   "outputs": [],
   "source": [
    "# sum enrollment across columns\n",
    "pivot_executingparty2['total_patients_recruited'] = pivot_executingparty2.sum(axis=1)\n",
    "# pivot_executingparty2"
   ]
  },
  {
   "cell_type": "markdown",
   "metadata": {},
   "source": [
    "# save all 3 tabs to the same excel doc"
   ]
  },
  {
   "cell_type": "code",
   "execution_count": null,
   "metadata": {},
   "outputs": [],
   "source": [
    "writer = pd.ExcelWriter('Active Studies Footprint_[date].xlsx')\n",
    "\n",
    "pivot_executingparty1.to_excel(writer, sheet_name = 'executingparty1')\n",
    "pivot_executingparty2.to_excel(writer, sheet_name = 'executingparty2')\n",
    "pivot_executingparty2.to_excel(writer, sheet_name = 'executingparty2')\n",
    "\n",
    "writer.save()"
   ]
  }
 ],
 "metadata": {
  "kernelspec": {
   "display_name": "Python 3",
   "language": "python",
   "name": "python3"
  },
  "language_info": {
   "codemirror_mode": {
    "name": "ipython",
    "version": 3
   },
   "file_extension": ".py",
   "mimetype": "text/x-python",
   "name": "python",
   "nbconvert_exporter": "python",
   "pygments_lexer": "ipython3",
   "version": "3.8.3"
  }
 },
 "nbformat": 4,
 "nbformat_minor": 4
}
